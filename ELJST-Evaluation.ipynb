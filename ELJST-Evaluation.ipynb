{
 "cells": [
  {
   "cell_type": "code",
   "execution_count": 1,
   "metadata": {},
   "outputs": [],
   "source": [
    "from tqdm import tqdm\n",
    "from collections import Counter\n",
    "from itertools import combinations\n",
    "from nltk.stem import PorterStemmer\n",
    "import joblib \n",
    "from sklearn.metrics import silhouette_score, davies_bouldin_score\n",
    "from sklearn.metrics.pairwise import euclidean_distances\n",
    "\n",
    "import imp, glob\n",
    "import copy\n",
    "import pickle\n",
    "import multiprocessing\n",
    "\n",
    "import numpy as np\n",
    "import pandas as pd\n",
    "import utils as my_utils\n",
    "import ELJST_script_BTM as lda\n",
    "import matplotlib.pyplot as plt"
   ]
  },
  {
   "cell_type": "code",
   "execution_count": 2,
   "metadata": {},
   "outputs": [],
   "source": [
    "import utils as my_utils"
   ]
  },
  {
   "cell_type": "code",
   "execution_count": 3,
   "metadata": {},
   "outputs": [],
   "source": [
    "def getTopKWordsClubbed(self, K):\n",
    "    pseudocounts = np.copy(self.n_vts)\n",
    "    s1, s2, s3 = pseudocounts.shape\n",
    "    pseudocounts = pseudocounts.reshape(s1, s2*s3)\n",
    "    normalizer = np.sum(pseudocounts, (0))\n",
    "    pseudocounts /= normalizer[np.newaxis, :]\n",
    "    worddict = {}\n",
    "    for t in range(self.numTopics):\n",
    "        topWordIndices = pseudocounts[:, t].argsort()[-K:]\n",
    "        vocab = self.vectorizer.get_feature_names()\n",
    "        worddict[t] = [vocab[i] for i in topWordIndices]\n",
    "    return worddict"
   ]
  },
  {
   "cell_type": "code",
   "execution_count": 4,
   "metadata": {},
   "outputs": [],
   "source": [
    "def get_diversity_score(list):\n",
    "\n",
    "    all_words = []\n",
    "\n",
    "    for l in list:\n",
    "\n",
    "        all_words += l\n",
    "\n",
    "    temp = pd.DataFrame(all_words,columns=['a'])\n",
    "\n",
    "    temp = temp['a'].value_counts().reset_index()\n",
    "\n",
    "    temp.columns = ['word','tot_cnt']\n",
    "\n",
    "    return temp[temp.tot_cnt == 1].shape[0]*1.0/temp.tot_cnt.sum()"
   ]
  },
  {
   "cell_type": "code",
   "execution_count": 5,
   "metadata": {},
   "outputs": [],
   "source": [
    "def get_diversity_score2(list):\n",
    "    return len(np.unique(top_k))/(len(top_k)*len(top_k[0]))"
   ]
  },
  {
   "cell_type": "markdown",
   "metadata": {},
   "source": [
    "# Model Evaluations"
   ]
  },
  {
   "cell_type": "code",
   "execution_count": 10,
   "metadata": {},
   "outputs": [],
   "source": [
    "folder = \"dumps/processed/*\""
   ]
  },
  {
   "cell_type": "code",
   "execution_count": 11,
   "metadata": {},
   "outputs": [],
   "source": [
    "dumps = glob.glob(folder)"
   ]
  },
  {
   "cell_type": "code",
   "execution_count": 12,
   "metadata": {},
   "outputs": [],
   "source": [
    "dumps.sort()"
   ]
  },
  {
   "cell_type": "code",
   "execution_count": 15,
   "metadata": {},
   "outputs": [],
   "source": [
    "dumps = dumps[:-1]"
   ]
  },
  {
   "cell_type": "code",
   "execution_count": null,
   "metadata": {},
   "outputs": [],
   "source": []
  },
  {
   "cell_type": "code",
   "execution_count": null,
   "metadata": {},
   "outputs": [],
   "source": [
    "def get_scores(sampler):\n",
    "    \n",
    "    ss = silhouette_score(euclidean_distances(sampler.wordOccuranceMatrix),\n",
    "                 sampler.dt_distribution.argmax(axis=1), metric='precomputed')\n",
    "    \n",
    "    chs = my_utils.coherence_score(sampler.wordOccuranceMatrix, list(getTopKWordsClubbed(sampler, 10).values()), sampler.vocabulary)\n",
    "    \n",
    "    hsc = my_utils.get_hscore_multi(sampler.dt_distribution, sampler.wordOccuranceMatrix, sampler.numTopics, 2000)\n",
    "    \n",
    "    loli = sampler.loglikelihood()\n",
    "    \n",
    "    pxy = sampler.perplexity()\n",
    "    \n",
    "    chs2 = my_utils.coherence_score2(sampler.wordOccuranceMatrix, list(getTopKWordsClubbed(sampler, 10).values()), sampler.vocabulary)\n",
    "    \n",
    "    div = get_diversity_score(list(getTopKWordsClubbed(sampler, 10).values()))\n",
    "    \n",
    "    print(str(hsc) + \",\" + str(ss) + \",\"  + str(loli) + \",\" + str(pxy) + \",\" + str(chs) + \",\" + str(chs2) + \",\" + str(div))\n",
    "\n",
    "#     print(str(round(chs, 2)) + \",\" + str(round(chs2, 4)))"
   ]
  },
  {
   "cell_type": "code",
   "execution_count": null,
   "metadata": {},
   "outputs": [],
   "source": []
  },
  {
   "cell_type": "code",
   "execution_count": 25,
   "metadata": {},
   "outputs": [],
   "source": [
    "lists = []"
   ]
  },
  {
   "cell_type": "code",
   "execution_count": 26,
   "metadata": {
    "scrolled": false
   },
   "outputs": [],
   "source": [
    "for i in dumps:\n",
    "    name = i.split(\"/\")[-1]\n",
    "    \n",
    "    sampler = joblib.load(i)\n",
    "    top = list(getTopKWordsClubbed(sampler, 10).values())\n",
    "\n",
    "    lists.append([name, top])"
   ]
  },
  {
   "cell_type": "code",
   "execution_count": null,
   "metadata": {},
   "outputs": [],
   "source": []
  }
 ],
 "metadata": {
  "kernelspec": {
   "display_name": "Python 3",
   "language": "python",
   "name": "python3"
  },
  "language_info": {
   "codemirror_mode": {
    "name": "ipython",
    "version": 3
   },
   "file_extension": ".py",
   "mimetype": "text/x-python",
   "name": "python",
   "nbconvert_exporter": "python",
   "pygments_lexer": "ipython3",
   "version": "3.7.4"
  }
 },
 "nbformat": 4,
 "nbformat_minor": 2
}
